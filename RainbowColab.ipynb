{
  "nbformat": 4,
  "nbformat_minor": 0,
  "metadata": {
    "colab": {
      "name": "RainbowColab.ipynb",
      "provenance": [],
      "collapsed_sections": [],
      "include_colab_link": true
    },
    "kernelspec": {
      "name": "python3",
      "display_name": "Python 3"
    },
    "accelerator": "TPU"
  },
  "cells": [
    {
      "cell_type": "markdown",
      "metadata": {
        "id": "view-in-github",
        "colab_type": "text"
      },
      "source": [
        "<a href=\"https://colab.research.google.com/github/HydroSausager/RainbowColab/blob/main/RainbowColab.ipynb\" target=\"_parent\"><img src=\"https://colab.research.google.com/assets/colab-badge.svg\" alt=\"Open In Colab\"/></a>"
      ]
    },
    {
      "cell_type": "markdown",
      "metadata": {
        "id": "1dzyQZ2NOP2R"
      },
      "source": [
        ""
      ]
    },
    {
      "cell_type": "code",
      "metadata": {
        "id": "H7zdITPvn9eF"
      },
      "source": [
        "#1st block - Installing programs\n",
        "!echo | add-apt-repository ppa:alessandro-strada/ppa  >/dev/null #just adds repo\n",
        "!sudo apt-get update >/dev/null #just update\n",
        "!apt-get install google-drive-ocamlfuse mingw-w64 opencl-headers >/dev/null #just installing some stuff\n",
        "!mkdir ~/gdrive #creating gdrive folder in home dir\n",
        "!google-drive-ocamlfuse ~/gdrive -headless &2>/dev/null #Just for creating default config"
      ],
      "execution_count": null,
      "outputs": []
    },
    {
      "cell_type": "code",
      "metadata": {
        "id": "YqWP1L0iOESG"
      },
      "source": [
        "#2nd block - mounting your google shared drive\n",
        "!sed -i 's/.*team_drive_id=.*/team_drive_id=YOUR_SHARED_DRIVE_ID/' ~/.gdfuse/default/config >/dev/null #configuration\n",
        "!google-drive-ocamlfuse ~/gdrive -headless -id  YOUR_CLIENT_ID  -secret YOUR_SECRET #mounting"
      ],
      "execution_count": null,
      "outputs": []
    },
    {
      "cell_type": "code",
      "metadata": {
        "id": "0PTkpB3dRoso"
      },
      "source": [
        "#3d block - building crackalack in a root folder of shared drive (make it once)\n",
        "#!git clone https://github.com/jtesta/rainbowcrackalack.git  ~/gdrive/crackalack >/dev/null\n",
        "#!cd ~/gdrive/crackalack && make >/dev/null"
      ],
      "execution_count": null,
      "outputs": []
    },
    {
      "cell_type": "code",
      "metadata": {
        "id": "CkALYZ3p1dVk"
      },
      "source": [
        "#4th block - crack your hashes\n",
        "!cd ~/gdrive/crackalack && ./crackalack_lookup ~/gdrive/rainbow/tables/Rainbow\\ Crackalack\\ NTLM\\ 8 3ed365d3092fedc437a26eb9f87d7642"
      ],
      "execution_count": null,
      "outputs": []
    }
  ]
}